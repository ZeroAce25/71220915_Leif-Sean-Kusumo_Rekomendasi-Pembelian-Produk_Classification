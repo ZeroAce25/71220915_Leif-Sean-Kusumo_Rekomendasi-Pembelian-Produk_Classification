{
 "cells": [
  {
   "cell_type": "markdown",
   "metadata": {},
   "source": [
    "### Import Library, Baca dan Load Data\n",
    "Mengimpor semua library yang diperlukan untuk analisis data, pemodelan, dan visualisasi. Library yang digunakan termasuk 'pandas' untuk manipulasi data, 'numpy' untuk operasi numerik, 'matplotlib' dan 'seaborn' untuk visualisasi, 'scikit-learn' untuk pemodelan, dan 'category_encoders' untuk encoding fitur kategorikal.\n",
    "Membaca data dari file CSV yang bernama 'data_fix.csv'.\n",
    "Menampilkan beberapa baris pertama dari data yang dibaca untuk memastikan bahwa data dimuat dengan benar."
   ]
  },
  {
   "cell_type": "code",
   "execution_count": 1,
   "metadata": {},
   "outputs": [
    {
     "name": "stdout",
     "output_type": "stream",
     "text": [
      "DataFrame baru:\n",
      "          USER_ID  PRODUCT_ID  RATING  TIME_STAMP\n",
      "0   AKM1MP6P0OYPR  0132793040       5  1365811200\n",
      "1  A2CX7LUOHB2NDG  0321732944       5  1341100800\n",
      "2  A2NWSAGRHCP8N5  0439886341       1  1367193600\n",
      "3  A2WNBOD3WNDNKT  0439886341       3  1374451200\n",
      "4  A1GI0U4ZRJA8WN  0439886341       1  1334707200\n"
     ]
    }
   ],
   "source": [
    "# Langkah 1: Import Library, Membaca Dataset dan Load Data\n",
    "import pandas as pd\n",
    "import numpy as np\n",
    "import matplotlib.pyplot as plt\n",
    "import seaborn as sns\n",
    "from sklearn.tree import DecisionTreeClassifier\n",
    "from sklearn.model_selection import train_test_split\n",
    "from sklearn.metrics import confusion_matrix, classification_report\n",
    "import category_encoders as ce\n",
    "\n",
    "# Membaca file CSV\n",
    "df = pd.read_csv('data_fix.csv')\n",
    "df.head()\n",
    "# Menampilkan DataFrame baru\n",
    "print(\"DataFrame baru:\")\n",
    "print(df.head())"
   ]
  },
  {
   "cell_type": "markdown",
   "metadata": {},
   "source": [
    "### Konversi Kolom TIME_STAMP ke Tipe Datetime\n",
    "Konversi kolom TIME_STAMP ke tipe datetime memungkinkan manipulasi data waktu secara lebih efektif. df.info() digunakan untuk memverifikasi tipe data kolom."
   ]
  },
  {
   "cell_type": "code",
   "execution_count": 2,
   "metadata": {},
   "outputs": [
    {
     "name": "stdout",
     "output_type": "stream",
     "text": [
      "<class 'pandas.core.frame.DataFrame'>\n",
      "RangeIndex: 7824482 entries, 0 to 7824481\n",
      "Data columns (total 4 columns):\n",
      " #   Column      Dtype         \n",
      "---  ------      -----         \n",
      " 0   USER_ID     object        \n",
      " 1   PRODUCT_ID  object        \n",
      " 2   RATING      int64         \n",
      " 3   TIME_STAMP  datetime64[ns]\n",
      "dtypes: datetime64[ns](1), int64(1), object(2)\n",
      "memory usage: 238.8+ MB\n"
     ]
    }
   ],
   "source": [
    "# Langkah 2: Konversi Kolom TIME_STAMP ke Tipe Datetime\n",
    "df['TIME_STAMP'] = pd.to_datetime(df['TIME_STAMP'])\n",
    "\n",
    "# Menampilkan tipe data untuk memverifikasi konversi\n",
    "df.info()"
   ]
  },
  {
   "cell_type": "markdown",
   "metadata": {},
   "source": [
    "### Pemeriksaan Data yang Null\n",
    "Pemeriksaan untuk nilai null dilakukan menggunakan df.isnull().sum(). Mengetahui apakah ada nilai null dalam dataset penting untuk memastikan data siap untuk analisis lebih lanjut."
   ]
  },
  {
   "cell_type": "code",
   "execution_count": 3,
   "metadata": {},
   "outputs": [
    {
     "name": "stdout",
     "output_type": "stream",
     "text": [
      "Pemeriksaan nilai null di setiap kolom:\n",
      "USER_ID       0\n",
      "PRODUCT_ID    0\n",
      "RATING        0\n",
      "TIME_STAMP    0\n",
      "dtype: int64\n",
      "\n",
      "Tidak ada nilai null di DataFrame.\n"
     ]
    }
   ],
   "source": [
    "# Langkah 3: Memeriksa Data yang Null\n",
    "null_check = df.isnull().sum()\n",
    "any_null = df.isnull().any().any()\n",
    "\n",
    "print(\"Pemeriksaan nilai null di setiap kolom:\")\n",
    "print(null_check)\n",
    "\n",
    "if any_null:\n",
    "    print(\"\\nAda nilai null di DataFrame.\")\n",
    "else:\n",
    "    print(\"\\nTidak ada nilai null di DataFrame.\")\n"
   ]
  },
  {
   "cell_type": "markdown",
   "metadata": {},
   "source": [
    "### Normalisasi Data\n",
    "Normalisasi dilakukan untuk skala nilai rating antara 0 dan 1. Ini membantu dalam standar untuk algoritma pembelajaran mesin. Normalisasi menggunakan Min-Max Scaling."
   ]
  },
  {
   "cell_type": "code",
   "execution_count": 5,
   "metadata": {},
   "outputs": [
    {
     "data": {
      "text/html": [
       "<div>\n",
       "<style scoped>\n",
       "    .dataframe tbody tr th:only-of-type {\n",
       "        vertical-align: middle;\n",
       "    }\n",
       "\n",
       "    .dataframe tbody tr th {\n",
       "        vertical-align: top;\n",
       "    }\n",
       "\n",
       "    .dataframe thead th {\n",
       "        text-align: right;\n",
       "    }\n",
       "</style>\n",
       "<table border=\"1\" class=\"dataframe\">\n",
       "  <thead>\n",
       "    <tr style=\"text-align: right;\">\n",
       "      <th></th>\n",
       "      <th>USER_ID</th>\n",
       "      <th>PRODUCT_ID</th>\n",
       "      <th>RATING</th>\n",
       "      <th>TIME_STAMP</th>\n",
       "      <th>RATING_NORMALIZED</th>\n",
       "    </tr>\n",
       "  </thead>\n",
       "  <tbody>\n",
       "    <tr>\n",
       "      <th>0</th>\n",
       "      <td>AKM1MP6P0OYPR</td>\n",
       "      <td>0132793040</td>\n",
       "      <td>5</td>\n",
       "      <td>1970-01-01 00:00:01.365811200</td>\n",
       "      <td>1.0</td>\n",
       "    </tr>\n",
       "    <tr>\n",
       "      <th>1</th>\n",
       "      <td>A2CX7LUOHB2NDG</td>\n",
       "      <td>0321732944</td>\n",
       "      <td>5</td>\n",
       "      <td>1970-01-01 00:00:01.341100800</td>\n",
       "      <td>1.0</td>\n",
       "    </tr>\n",
       "    <tr>\n",
       "      <th>2</th>\n",
       "      <td>A2NWSAGRHCP8N5</td>\n",
       "      <td>0439886341</td>\n",
       "      <td>1</td>\n",
       "      <td>1970-01-01 00:00:01.367193600</td>\n",
       "      <td>0.0</td>\n",
       "    </tr>\n",
       "    <tr>\n",
       "      <th>3</th>\n",
       "      <td>A2WNBOD3WNDNKT</td>\n",
       "      <td>0439886341</td>\n",
       "      <td>3</td>\n",
       "      <td>1970-01-01 00:00:01.374451200</td>\n",
       "      <td>0.5</td>\n",
       "    </tr>\n",
       "    <tr>\n",
       "      <th>4</th>\n",
       "      <td>A1GI0U4ZRJA8WN</td>\n",
       "      <td>0439886341</td>\n",
       "      <td>1</td>\n",
       "      <td>1970-01-01 00:00:01.334707200</td>\n",
       "      <td>0.0</td>\n",
       "    </tr>\n",
       "  </tbody>\n",
       "</table>\n",
       "</div>"
      ],
      "text/plain": [
       "          USER_ID  PRODUCT_ID  RATING                    TIME_STAMP  \\\n",
       "0   AKM1MP6P0OYPR  0132793040       5 1970-01-01 00:00:01.365811200   \n",
       "1  A2CX7LUOHB2NDG  0321732944       5 1970-01-01 00:00:01.341100800   \n",
       "2  A2NWSAGRHCP8N5  0439886341       1 1970-01-01 00:00:01.367193600   \n",
       "3  A2WNBOD3WNDNKT  0439886341       3 1970-01-01 00:00:01.374451200   \n",
       "4  A1GI0U4ZRJA8WN  0439886341       1 1970-01-01 00:00:01.334707200   \n",
       "\n",
       "   RATING_NORMALIZED  \n",
       "0                1.0  \n",
       "1                1.0  \n",
       "2                0.0  \n",
       "3                0.5  \n",
       "4                0.0  "
      ]
     },
     "execution_count": 5,
     "metadata": {},
     "output_type": "execute_result"
    }
   ],
   "source": [
    "# Langkah 4: Normalisasi Data\n",
    "df['RATING_NORMALIZED'] = (df['RATING'] - df['RATING'].min()) / (df['RATING'].max() - df['RATING'].min())\n",
    "\n",
    "# Menampilkan beberapa baris pertama dari DataFrame untuk memverifikasi normalisasi\n",
    "df.head()\n"
   ]
  },
  {
   "cell_type": "markdown",
   "metadata": {},
   "source": [
    "### Membuat Target Diskret dari Rating\n",
    "Membuat target diskret dari RATING_NORMALIZED dengan membaginya menjadi 3 kategori (0, 1, 2). Dengan 2 rating tinggi, 1 rating tengah\", 0 rating buruk."
   ]
  },
  {
   "cell_type": "code",
   "execution_count": 6,
   "metadata": {},
   "outputs": [
    {
     "data": {
      "text/html": [
       "<div>\n",
       "<style scoped>\n",
       "    .dataframe tbody tr th:only-of-type {\n",
       "        vertical-align: middle;\n",
       "    }\n",
       "\n",
       "    .dataframe tbody tr th {\n",
       "        vertical-align: top;\n",
       "    }\n",
       "\n",
       "    .dataframe thead th {\n",
       "        text-align: right;\n",
       "    }\n",
       "</style>\n",
       "<table border=\"1\" class=\"dataframe\">\n",
       "  <thead>\n",
       "    <tr style=\"text-align: right;\">\n",
       "      <th></th>\n",
       "      <th>RATING_NORMALIZED</th>\n",
       "      <th>RATING_DISCRETE</th>\n",
       "    </tr>\n",
       "  </thead>\n",
       "  <tbody>\n",
       "    <tr>\n",
       "      <th>0</th>\n",
       "      <td>1.0</td>\n",
       "      <td>2</td>\n",
       "    </tr>\n",
       "    <tr>\n",
       "      <th>1</th>\n",
       "      <td>1.0</td>\n",
       "      <td>2</td>\n",
       "    </tr>\n",
       "    <tr>\n",
       "      <th>2</th>\n",
       "      <td>0.0</td>\n",
       "      <td>0</td>\n",
       "    </tr>\n",
       "    <tr>\n",
       "      <th>3</th>\n",
       "      <td>0.5</td>\n",
       "      <td>1</td>\n",
       "    </tr>\n",
       "    <tr>\n",
       "      <th>4</th>\n",
       "      <td>0.0</td>\n",
       "      <td>0</td>\n",
       "    </tr>\n",
       "  </tbody>\n",
       "</table>\n",
       "</div>"
      ],
      "text/plain": [
       "   RATING_NORMALIZED  RATING_DISCRETE\n",
       "0                1.0                2\n",
       "1                1.0                2\n",
       "2                0.0                0\n",
       "3                0.5                1\n",
       "4                0.0                0"
      ]
     },
     "execution_count": 6,
     "metadata": {},
     "output_type": "execute_result"
    }
   ],
   "source": [
    "# Langkah 5: Membuat target diskret dari rating\n",
    "df['RATING_DISCRETE'] = pd.cut(df['RATING_NORMALIZED'], bins=3, labels=[0, 1, 2]).astype(int)\n",
    "\n",
    "# Tampilkan beberapa baris pertama untuk memastikan perubahan\n",
    "df[['RATING_NORMALIZED', 'RATING_DISCRETE']].head()\n",
    "\n"
   ]
  },
  {
   "cell_type": "markdown",
   "metadata": {},
   "source": [
    "### Menampilkan Distribusi Data dan Visualisasi Data\n",
    "Distribusi data dinormalisasi ditampilkan menggunakan histogram dan distribusi normal overlay. Ini membantu memahami sebaran data setelah normalisasi."
   ]
  },
  {
   "cell_type": "code",
   "execution_count": 8,
   "metadata": {},
   "outputs": [
    {
     "data": {
      "image/png": "[encoded data removed]",
      "text/plain": [
       "<Figure size 800x600 with 1 Axes>"
      ]
     },
     "metadata": {},
     "output_type": "display_data"
    }
   ],
   "source": [
    "# Langkah 6: Menampilkan Distribusi Data\n",
    "plt.figure(figsize=(8, 6))\n",
    "sns.histplot(df['RATING_NORMALIZED'], bins=20, kde=True, stat='density')\n",
    "x = np.linspace(df['RATING_NORMALIZED'].min(), df['RATING_NORMALIZED'].max(), 1000)\n",
    "mu = df['RATING_NORMALIZED'].mean()\n",
    "sigma = df['RATING_NORMALIZED'].std()\n",
    "y = (1/(sigma * np.sqrt(2 * np.pi))) * np.exp(-0.5 * ((x - mu) / sigma) ** 2)\n",
    "plt.plot(x, y, color='red', linestyle='--', label='Distribusi Normal')\n",
    "plt.title('Distribusi Nilai Rating (Setelah Normalisasi)')\n",
    "plt.xlabel('Rating Normalized')\n",
    "plt.ylabel('Density')\n",
    "plt.legend()\n",
    "plt.show()\n"
   ]
  },
  {
   "cell_type": "markdown",
   "metadata": {},
   "source": [
    "Keterangan dari Output Grafik :\n",
    "Grafik tersebut menunjukkan distribusi nilai rating yang dinormalisasi yang diberikan oleh pengguna kepada produk. Sumbu x mewakili nilai rating yang dinormalisasi, yang berkisar dari 0 hingga 1, dan sumbu y mewakili kepadatan atau frekuensi setiap nilai rating. Grafik memiliki lima puncak yang jelas, menunjukkan bahwa terdapat lima kelompok rating yang menonjol:\n",
    "    1. Puncak di sekitar 0, menunjukkan banyaknya rating yang rendah (kemungkinan 1 atau 2 bintang).\n",
    "    2. Puncak di sekitar 0,3, menunjukkan jumlah rating yang moderat (kemungkinan 3 bintang).\n",
    "    3. Puncak di sekitar 0,5, menunjukkan jumlah rating yang moderat lainnya (kemungkinan 3 atau 4 bintang).\n",
    "    4. Puncak di sekitar 0,8, menunjukkan jumlah rating yang tinggi (kemungkinan 4 atau 5 bintang).\n",
    "    5. Puncak di sekitar 1,0, menunjukkan banyaknya rating yang sangat tinggi (kemungkinan 5 bintang).\n",
    "Garis putus-putus merah mewakili distribusi normal, yang tidak diikuti oleh data rating. Ini menunjukkan bahwa rating tidak tersebar merata dan lebih banyak terkonsentrasi di beberapa titik tertentu. Hal ini mengimplikasikan bahwa : \n",
    "    A.Banyak pengguna cenderung memberikan rating yang rendah (sekitar 1 atau 2 bintang) kepada produk.\n",
    "    B.Terdapat dua kelompok pengguna yang memberikan rating yang moderat (sekitar 3 bintang).\n",
    "    C.Jumlah pengguna yang memberikan rating yang tinggi (sekitar 4 atau 5 bintang) kepada produk cukup signifikan.\n",
    "    D. Rating tidak tersebar merata, dan terdapat pola atau bias yang jelas dalam cara pengguna menilai produk.\n",
    "Grafik ini dapat berguna untuk memahami perilaku pengguna, mengidentifikasi pola dalam rating produk, dan potensi menginformasikan pengembangan produk atau sistem rekomendasi."
   ]
  },
  {
   "cell_type": "markdown",
   "metadata": {},
   "source": [
    "### Menentukan Fitur dan Target\n",
    "Fitur digunakan untuk melatih model, sedangkan target adalah nilai yang ingin diprediksi. Menentukan fitur dengan membuang kolom yang tidak diperlukan dan menyimpan target diskret sebagai y."
   ]
  },
  {
   "cell_type": "code",
   "execution_count": 7,
   "metadata": {},
   "outputs": [
    {
     "data": {
      "text/plain": [
       "(          USER_ID  PRODUCT_ID\n",
       " 0   AKM1MP6P0OYPR  0132793040\n",
       " 1  A2CX7LUOHB2NDG  0321732944\n",
       " 2  A2NWSAGRHCP8N5  0439886341\n",
       " 3  A2WNBOD3WNDNKT  0439886341\n",
       " 4  A1GI0U4ZRJA8WN  0439886341,\n",
       " 0    2\n",
       " 1    2\n",
       " 2    0\n",
       " 3    1\n",
       " 4    0\n",
       " Name: RATING_DISCRETE, dtype: int32)"
      ]
     },
     "execution_count": 7,
     "metadata": {},
     "output_type": "execute_result"
    }
   ],
   "source": [
    "# Langkah 7: Menentukan fitur dan target\n",
    "X = df.drop(['RATING', 'TIME_STAMP', 'RATING_NORMALIZED', 'RATING_DISCRETE'], axis=1)  # Fitur\n",
    "y = df['RATING_DISCRETE']  # Target diskret\n",
    "\n",
    "# Tampilkan beberapa baris pertama dari fitur dan target\n",
    "X.head(), y.head()\n",
    "\n"
   ]
  },
  {
   "cell_type": "markdown",
   "metadata": {},
   "source": [
    "### Encoding Kategori dan Pembuatan Model dengan 100% Data Latih\n",
    "Encoding kategori digunakan untuk mengubah fitur kategori menjadi numerik. Model Decision Tree dibuat dan dilatih menggunakan 100% data latih."
   ]
  },
  {
   "cell_type": "code",
   "execution_count": 15,
   "metadata": {},
   "outputs": [
    {
     "data": {
      "text/html": [
       "<div>\n",
       "<style scoped>\n",
       "    .dataframe tbody tr th:only-of-type {\n",
       "        vertical-align: middle;\n",
       "    }\n",
       "\n",
       "    .dataframe tbody tr th {\n",
       "        vertical-align: top;\n",
       "    }\n",
       "\n",
       "    .dataframe thead th {\n",
       "        text-align: right;\n",
       "    }\n",
       "</style>\n",
       "<table border=\"1\" class=\"dataframe\">\n",
       "  <thead>\n",
       "    <tr style=\"text-align: right;\">\n",
       "      <th></th>\n",
       "      <th>USER_ID</th>\n",
       "      <th>PRODUCT_ID</th>\n",
       "    </tr>\n",
       "  </thead>\n",
       "  <tbody>\n",
       "    <tr>\n",
       "      <th>0</th>\n",
       "      <td>1.632672</td>\n",
       "      <td>1.627645</td>\n",
       "    </tr>\n",
       "    <tr>\n",
       "      <th>1</th>\n",
       "      <td>1.643857</td>\n",
       "      <td>1.627645</td>\n",
       "    </tr>\n",
       "    <tr>\n",
       "      <th>2</th>\n",
       "      <td>1.367428</td>\n",
       "      <td>1.380629</td>\n",
       "    </tr>\n",
       "    <tr>\n",
       "      <th>3</th>\n",
       "      <td>1.497537</td>\n",
       "      <td>1.380629</td>\n",
       "    </tr>\n",
       "    <tr>\n",
       "      <th>4</th>\n",
       "      <td>1.367428</td>\n",
       "      <td>1.380629</td>\n",
       "    </tr>\n",
       "  </tbody>\n",
       "</table>\n",
       "</div>"
      ],
      "text/plain": [
       "    USER_ID  PRODUCT_ID\n",
       "0  1.632672    1.627645\n",
       "1  1.643857    1.627645\n",
       "2  1.367428    1.380629\n",
       "3  1.497537    1.380629\n",
       "4  1.367428    1.380629"
      ]
     },
     "execution_count": 15,
     "metadata": {},
     "output_type": "execute_result"
    }
   ],
   "source": [
    "# Langkah 8: Encoding Kategori dan Pembuatan Model dengan 100% Data Latih\n",
    "encoder = ce.TargetEncoder(cols=['USER_ID', 'PRODUCT_ID'])\n",
    "X_encoded = encoder.fit_transform(X, y)\n",
    "\n",
    "# Membuat dan melatih model Decision Trees dengan 100% data latih\n",
    "dt_classifier = DecisionTreeClassifier(random_state=42)\n",
    "dt_classifier.fit(X_encoded, y)\n",
    "\n",
    "# Menampilkan beberapa baris pertama dari fitur yang sudah diencoding\n",
    "X_encoded.head()\n"
   ]
  },
  {
   "cell_type": "markdown",
   "metadata": {},
   "source": [
    "### Membagi Data untuk Latihan dan Pengujian\n",
    "Data dibagi menjadi set latih dan set uji untuk validasi model. 80% data digunakan untuk pelatihan dan 20% untuk pengujian."
   ]
  },
  {
   "cell_type": "code",
   "execution_count": 9,
   "metadata": {},
   "outputs": [
    {
     "data": {
      "text/plain": [
       "((6259585, 2), (1564897, 2), (6259585,), (1564897,))"
      ]
     },
     "execution_count": 9,
     "metadata": {},
     "output_type": "execute_result"
    }
   ],
   "source": [
    "# Langkah 9: Membagi data menjadi data latih dan data uji (80% data latih)\n",
    "X_train, X_test, y_train, y_test = train_test_split(X_encoded, y, test_size=0.2, random_state=42)\n",
    "\n",
    "# Tampilkan ukuran dari data latih dan data uji\n",
    "X_train.shape, X_test.shape, y_train.shape, y_test.shape\n"
   ]
  },
  {
   "cell_type": "markdown",
   "metadata": {},
   "source": [
    "### Melatih model dengan 80% data latih\n",
    "Membuat dan melatih model Decision Tree Classifier menggunakan 80% data latih."
   ]
  },
  {
   "cell_type": "code",
   "execution_count": 10,
   "metadata": {},
   "outputs": [
    {
     "data": {
      "text/plain": [
       "DecisionTreeClassifier(random_state=42)"
      ]
     },
     "execution_count": 10,
     "metadata": {},
     "output_type": "execute_result"
    }
   ],
   "source": [
    "# Langkah 10: Membuat dan melatih model Decision Trees dengan 80% data latih\n",
    "dt_classifier_80 = DecisionTreeClassifier(random_state=42)\n",
    "dt_classifier_80.fit(X_train, y_train)\n"
   ]
  },
  {
   "cell_type": "markdown",
   "metadata": {},
   "source": [
    "### Memprediksi dan Menghitung Confusion Matrix\n",
    "Memprediksi target untuk data uji dan menghitung confusion matrix untuk melihat performa model."
   ]
  },
  {
   "cell_type": "code",
   "execution_count": 11,
   "metadata": {},
   "outputs": [
    {
     "name": "stdout",
     "output_type": "stream",
     "text": [
      "\n",
      "Confusion Matrix pada data uji:\n",
      "[[ 216277   10704   45074]\n",
      " [  15718   68949   41756]\n",
      " [  47267   34883 1084269]]\n"
     ]
    }
   ],
   "source": [
    "# Langkah 11: Memprediksi kelas untuk data uji (80%)\n",
    "y_pred_80 = dt_classifier_80.predict(X_test)\n",
    "\n",
    "# Menghitung Confusion Matrix\n",
    "conf_matrix = confusion_matrix(y_test, y_pred_80)\n",
    "print(\"\\nConfusion Matrix pada data uji:\")\n",
    "print(conf_matrix)\n"
   ]
  },
  {
   "cell_type": "markdown",
   "metadata": {},
   "source": [
    "### Menghitung Laporan Klasifikasi\n",
    "memberikan informasi yang lebih detail tentang performa model dengan perhitungan presisi, recall, dan f1-score untuk setiap kelas."
   ]
  },
  {
   "cell_type": "code",
   "execution_count": 12,
   "metadata": {},
   "outputs": [
    {
     "name": "stdout",
     "output_type": "stream",
     "text": [
      "\n",
      "Classification Report pada data uji:\n",
      "              precision    recall  f1-score   support\n",
      "\n",
      "           0       0.77      0.79      0.78    272055\n",
      "           1       0.60      0.55      0.57    126423\n",
      "           2       0.93      0.93      0.93   1166419\n",
      "\n",
      "    accuracy                           0.88   1564897\n",
      "   macro avg       0.77      0.76      0.76   1564897\n",
      "weighted avg       0.87      0.88      0.87   1564897\n",
      "\n"
     ]
    }
   ],
   "source": [
    "# Langkah 12: Menghitung laporan klasifikasi\n",
    "class_report = classification_report(y_test, y_pred_80)\n",
    "print(\"\\nClassification Report pada data uji:\")\n",
    "print(class_report)\n"
   ]
  },
  {
   "cell_type": "markdown",
   "metadata": {},
   "source": [
    "Kesimpulan :\n",
    "1. Model memiliki kinerja yang baik secara keseluruhan dengan akurasi 88%.\n",
    "2. Kinerja terbaik ada pada Kategori 2 (rating tertinggi) dengan nilai precision, recall, dan F1-score yang tinggi, menunjukkan bahwa model sangat efektif dalam mengklasifikasikan instance dengan rating tertinggi."
   ]
  },
  {
   "cell_type": "markdown",
   "metadata": {},
   "source": [
    "### Fungsi Rekomendasi Produk Berdasarkan Prediksi Model\n",
    "Menambahkan fungsi untuk merekomendasikan produk berdasarkan hasil prediksi model."
   ]
  },
  {
   "cell_type": "code",
   "execution_count": 16,
   "metadata": {},
   "outputs": [
    {
     "name": "stdout",
     "output_type": "stream",
     "text": [
      "\n",
      "Rekomendasi produk berdasarkan prediksi model (dengan 100% data latih):\n",
      "PRODUCT_ID\n",
      "2.000000    2.0\n",
      "1.948976    2.0\n",
      "1.838395    2.0\n",
      "1.733558    2.0\n",
      "1.663626    2.0\n",
      "Name: RATING_PREDICTED, dtype: float64\n"
     ]
    }
   ],
   "source": [
    "# Langkah 13: Fungsi Rekomendasi Produk Berdasarkan Prediksi Model\n",
    "def rekomendasi_produk_berdasarkan_prediksi(X, model, top_n=5):\n",
    "    # Membuat prediksi untuk setiap produk\n",
    "    rating_pred = model.predict(X)\n",
    "    # Membuat DataFrame hasil prediksi\n",
    "    pred_df = X.copy()\n",
    "    pred_df['RATING_PREDICTED'] = rating_pred\n",
    "    # Mengelompokkan data berdasarkan PRODUCT_ID dan menghitung rata-rata rating prediksi\n",
    "    rekomendasi = pred_df.groupby('PRODUCT_ID')['RATING_PREDICTED'].mean().sort_values(ascending=False).head(top_n)\n",
    "    return rekomendasi\n",
    "\n",
    "# Menggunakan model yang dilatih dengan 100% data latih untuk prediksi\n",
    "print(\"\\nRekomendasi produk berdasarkan prediksi model (dengan 100% data latih):\")\n",
    "print(rekomendasi_produk_berdasarkan_prediksi(X_encoded, dt_classifier))\n"
   ]
  },
  {
   "cell_type": "markdown",
   "metadata": {},
   "source": [
    "### Zero Cell (Not Used)\n",
    "Only for paste cell if need to correct the wrong cell"
   ]
  }
 ],
 "metadata": {
  "kernelspec": {
   "display_name": "base",
   "language": "python",
   "name": "python3"
  },
  "language_info": {
   "codemirror_mode": {
    "name": "ipython",
    "version": 3
   },
   "file_extension": ".py",
   "mimetype": "text/x-python",
   "name": "python",
   "nbconvert_exporter": "python",
   "pygments_lexer": "ipython3",
   "version": "3.9.13"
  }
 },
 "nbformat": 4,
 "nbformat_minor": 2
}
